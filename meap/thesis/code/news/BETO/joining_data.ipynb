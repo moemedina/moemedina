{
 "cells": [
  {
   "cell_type": "code",
   "execution_count": 11,
   "id": "ceaf5f19-a068-4d79-88e5-7fae02e99df1",
   "metadata": {},
   "outputs": [],
   "source": [
    "#!pip install nltk"
   ]
  },
  {
   "cell_type": "code",
   "execution_count": 33,
   "id": "5b8d8bab-0c2b-4dc1-bd94-cf9d4b029b40",
   "metadata": {},
   "outputs": [],
   "source": [
    "import pandas as pd"
   ]
  },
  {
   "cell_type": "code",
   "execution_count": 34,
   "id": "99d7c580-717d-4fb3-941d-ef2d8ef29aac",
   "metadata": {},
   "outputs": [
    {
     "name": "stderr",
     "output_type": "stream",
     "text": [
      "[nltk_data] Downloading package punkt to\n",
      "[nltk_data]     C:\\Users\\mario\\AppData\\Roaming\\nltk_data...\n",
      "[nltk_data]   Package punkt is already up-to-date!\n"
     ]
    }
   ],
   "source": [
    "import nltk\n",
    "nltk.download('punkt')\n",
    "from nltk.tokenize import word_tokenize"
   ]
  },
  {
   "cell_type": "code",
   "execution_count": 36,
   "id": "dcc6cecb-73b3-4347-8e73-23369de50aa8",
   "metadata": {},
   "outputs": [],
   "source": [
    "jornada = pd.read_parquet('/Users/mario/OneDrive/ITAM/4to semestre/Inv Aplicada II/Mario - Tesis/code/BETO/data/final_results_la_jornada.parquet')\n",
    "financiero = pd.read_parquet('/Users/mario/OneDrive/ITAM/4to semestre/Inv Aplicada II/Mario - Tesis/code/BETO/data/final_results_financiero.parquet')\n",
    "universal = pd.read_parquet('/Users/mario/OneDrive/ITAM/4to semestre/Inv Aplicada II/Mario - Tesis/code/BETO/data/final_results_universal.parquet')"
   ]
  },
  {
   "cell_type": "code",
   "execution_count": 37,
   "id": "973e0072-9fb7-420a-b089-317c94693f0a",
   "metadata": {},
   "outputs": [],
   "source": [
    "jornada['label'] = 1\n",
    "financiero['label'] = 0\n",
    "universal['label'] = 1"
   ]
  },
  {
   "cell_type": "code",
   "execution_count": 38,
   "id": "e81e3ac4-778d-4c6f-888c-ca870898c47e",
   "metadata": {},
   "outputs": [
    {
     "data": {
      "text/html": [
       "<div>\n",
       "<style scoped>\n",
       "    .dataframe tbody tr th:only-of-type {\n",
       "        vertical-align: middle;\n",
       "    }\n",
       "\n",
       "    .dataframe tbody tr th {\n",
       "        vertical-align: top;\n",
       "    }\n",
       "\n",
       "    .dataframe thead th {\n",
       "        text-align: right;\n",
       "    }\n",
       "</style>\n",
       "<table border=\"1\" class=\"dataframe\">\n",
       "  <thead>\n",
       "    <tr style=\"text-align: right;\">\n",
       "      <th></th>\n",
       "      <th>newspaper</th>\n",
       "      <th>query</th>\n",
       "      <th>date</th>\n",
       "      <th>url</th>\n",
       "      <th>title</th>\n",
       "      <th>summary</th>\n",
       "      <th>text</th>\n",
       "      <th>label</th>\n",
       "    </tr>\n",
       "  </thead>\n",
       "  <tbody>\n",
       "    <tr>\n",
       "      <th>0</th>\n",
       "      <td>la jornada</td>\n",
       "      <td>Morena</td>\n",
       "      <td>2019-01-02T00:00:00</td>\n",
       "      <td>https://www.jornada.com.mx/2019/01/02/politica...</td>\n",
       "      <td>Es casi un hecho el periodo extra en el Senado</td>\n",
       "      <td></td>\n",
       "      <td>Periódico La JornadaMiércoles 2 de enero de 20...</td>\n",
       "      <td>1</td>\n",
       "    </tr>\n",
       "    <tr>\n",
       "      <th>1</th>\n",
       "      <td>la jornada</td>\n",
       "      <td>Morena</td>\n",
       "      <td>2019-01-02T00:00:00</td>\n",
       "      <td>https://www.jornada.com.mx/2019/01/02/politica...</td>\n",
       "      <td>Subejercicios de presupuestos serán considerad...</td>\n",
       "      <td>Ineptos, los funcionarios que de forma deliber...</td>\n",
       "      <td>Periódico La JornadaMiércoles 2 de enero de 20...</td>\n",
       "      <td>1</td>\n",
       "    </tr>\n",
       "    <tr>\n",
       "      <th>2</th>\n",
       "      <td>la jornada</td>\n",
       "      <td>Morena</td>\n",
       "      <td>2019-01-02T00:00:00</td>\n",
       "      <td>https://www.jornada.com.mx/2019/01/02/politica...</td>\n",
       "      <td>Perfilan otra vez a Barbosa como candidato en ...</td>\n",
       "      <td></td>\n",
       "      <td>Reportero y corresponsal Periódico La JornadaM...</td>\n",
       "      <td>1</td>\n",
       "    </tr>\n",
       "    <tr>\n",
       "      <th>3</th>\n",
       "      <td>la jornada</td>\n",
       "      <td>Morena</td>\n",
       "      <td>2019-01-02T00:00:00</td>\n",
       "      <td>https://www.jornada.com.mx/2019/01/02/politica...</td>\n",
       "      <td>Organizará el INE comicios en 5 estados, ademá...</td>\n",
       "      <td>Sólo habían considerado elecciones en Baja Cal...</td>\n",
       "      <td>Periódico La JornadaMiércoles 2 de enero de 20...</td>\n",
       "      <td>1</td>\n",
       "    </tr>\n",
       "    <tr>\n",
       "      <th>4</th>\n",
       "      <td>la jornada</td>\n",
       "      <td>Morena</td>\n",
       "      <td>2019-01-02T00:00:00</td>\n",
       "      <td>https://www.jornada.com.mx/2019/01/02/estados/...</td>\n",
       "      <td>Matan a tiros al nuevo alcalde de Tlaxiaco; cu...</td>\n",
       "      <td>Morena exige parar ataques contra sus integrantes</td>\n",
       "      <td>Corresponsales Periódico La JornadaMiércoles 2...</td>\n",
       "      <td>1</td>\n",
       "    </tr>\n",
       "  </tbody>\n",
       "</table>\n",
       "</div>"
      ],
      "text/plain": [
       "    newspaper   query                 date  \\\n",
       "0  la jornada  Morena  2019-01-02T00:00:00   \n",
       "1  la jornada  Morena  2019-01-02T00:00:00   \n",
       "2  la jornada  Morena  2019-01-02T00:00:00   \n",
       "3  la jornada  Morena  2019-01-02T00:00:00   \n",
       "4  la jornada  Morena  2019-01-02T00:00:00   \n",
       "\n",
       "                                                 url  \\\n",
       "0  https://www.jornada.com.mx/2019/01/02/politica...   \n",
       "1  https://www.jornada.com.mx/2019/01/02/politica...   \n",
       "2  https://www.jornada.com.mx/2019/01/02/politica...   \n",
       "3  https://www.jornada.com.mx/2019/01/02/politica...   \n",
       "4  https://www.jornada.com.mx/2019/01/02/estados/...   \n",
       "\n",
       "                                               title  \\\n",
       "0     Es casi un hecho el periodo extra en el Senado   \n",
       "1  Subejercicios de presupuestos serán considerad...   \n",
       "2  Perfilan otra vez a Barbosa como candidato en ...   \n",
       "3  Organizará el INE comicios en 5 estados, ademá...   \n",
       "4  Matan a tiros al nuevo alcalde de Tlaxiaco; cu...   \n",
       "\n",
       "                                             summary  \\\n",
       "0                                                      \n",
       "1  Ineptos, los funcionarios que de forma deliber...   \n",
       "2                                                      \n",
       "3  Sólo habían considerado elecciones en Baja Cal...   \n",
       "4  Morena exige parar ataques contra sus integrantes   \n",
       "\n",
       "                                                text  label  \n",
       "0  Periódico La JornadaMiércoles 2 de enero de 20...      1  \n",
       "1  Periódico La JornadaMiércoles 2 de enero de 20...      1  \n",
       "2  Reportero y corresponsal Periódico La JornadaM...      1  \n",
       "3  Periódico La JornadaMiércoles 2 de enero de 20...      1  \n",
       "4  Corresponsales Periódico La JornadaMiércoles 2...      1  "
      ]
     },
     "execution_count": 38,
     "metadata": {},
     "output_type": "execute_result"
    }
   ],
   "source": [
    "jornada.head()"
   ]
  },
  {
   "cell_type": "code",
   "execution_count": 39,
   "id": "25ab9e77-7a6f-4945-84af-349726c2e8b5",
   "metadata": {},
   "outputs": [
    {
     "data": {
      "text/plain": [
       "(40274, 8)"
      ]
     },
     "execution_count": 39,
     "metadata": {},
     "output_type": "execute_result"
    }
   ],
   "source": [
    "jornada.shape"
   ]
  },
  {
   "cell_type": "code",
   "execution_count": 40,
   "id": "fc046035-2da6-4281-8652-8ed732ecaf9d",
   "metadata": {},
   "outputs": [
    {
     "data": {
      "text/html": [
       "<div>\n",
       "<style scoped>\n",
       "    .dataframe tbody tr th:only-of-type {\n",
       "        vertical-align: middle;\n",
       "    }\n",
       "\n",
       "    .dataframe tbody tr th {\n",
       "        vertical-align: top;\n",
       "    }\n",
       "\n",
       "    .dataframe thead th {\n",
       "        text-align: right;\n",
       "    }\n",
       "</style>\n",
       "<table border=\"1\" class=\"dataframe\">\n",
       "  <thead>\n",
       "    <tr style=\"text-align: right;\">\n",
       "      <th></th>\n",
       "      <th>newspaper</th>\n",
       "      <th>query</th>\n",
       "      <th>date</th>\n",
       "      <th>url</th>\n",
       "      <th>title</th>\n",
       "      <th>summary</th>\n",
       "      <th>text</th>\n",
       "      <th>label</th>\n",
       "    </tr>\n",
       "  </thead>\n",
       "  <tbody>\n",
       "    <tr>\n",
       "      <th>0</th>\n",
       "      <td>financiero</td>\n",
       "      <td>AMLO, Andrés Manuel López Obrador</td>\n",
       "      <td>2019-01-01 17:20:18</td>\n",
       "      <td>https://www.elfinanciero.com.mx/nacional/en-20...</td>\n",
       "      <td>En 2019 nos irá muy bien a todos los mexicanos...</td>\n",
       "      <td>En su primer mensaje del año a través de redes...</td>\n",
       "      <td>El presidente Andrés Manuel López Obrador asev...</td>\n",
       "      <td>0</td>\n",
       "    </tr>\n",
       "    <tr>\n",
       "      <th>1</th>\n",
       "      <td>financiero</td>\n",
       "      <td>MORENA</td>\n",
       "      <td>2019-01-01 21:39:57</td>\n",
       "      <td>https://www.elfinanciero.com.mx/nacional/educa...</td>\n",
       "      <td>Educación y seguridad, los más afectados en Pr...</td>\n",
       "      <td>El Presupuesto de Egresos del 2019 de Tlaxcala...</td>\n",
       "      <td>Con el voto a favor de la mayoría de los integ...</td>\n",
       "      <td>0</td>\n",
       "    </tr>\n",
       "    <tr>\n",
       "      <th>2</th>\n",
       "      <td>financiero</td>\n",
       "      <td>AMLO, Andrés Manuel López Obrador</td>\n",
       "      <td>2019-01-01 21:47:56</td>\n",
       "      <td>https://www.elfinanciero.com.mx/economia/amlo-...</td>\n",
       "      <td>AMLO destinará 1,600 mdp para el 'rescate' fin...</td>\n",
       "      <td>El secretario de Finanzas de Tabasco, Said Men...</td>\n",
       "      <td>VILLAHERMOSA, Tabasco.- El secretario de Finan...</td>\n",
       "      <td>0</td>\n",
       "    </tr>\n",
       "    <tr>\n",
       "      <th>3</th>\n",
       "      <td>financiero</td>\n",
       "      <td>MORENA, AMLO, Andrés Manuel López Obrador</td>\n",
       "      <td>2019-01-01 23:48:56</td>\n",
       "      <td>https://www.elfinanciero.com.mx/nacional/herma...</td>\n",
       "      <td>Hermano de AMLO niega nepotismo en su designación</td>\n",
       "      <td>José Ramiro López Obrador, que ocupará un carg...</td>\n",
       "      <td>VILLAHERMOSA.- José Ramiro López Obrador, herm...</td>\n",
       "      <td>0</td>\n",
       "    </tr>\n",
       "    <tr>\n",
       "      <th>4</th>\n",
       "      <td>financiero</td>\n",
       "      <td>MORENA</td>\n",
       "      <td>2019-01-01 20:34:20</td>\n",
       "      <td>https://www.elfinanciero.com.mx/nacional/congr...</td>\n",
       "      <td>Congreso de Sinaloa aprueba presupuesto 2019 d...</td>\n",
       "      <td>El presupuesto representa un incremento de ape...</td>\n",
       "      <td>La madrugada de este martes 1 de enero el Cong...</td>\n",
       "      <td>0</td>\n",
       "    </tr>\n",
       "  </tbody>\n",
       "</table>\n",
       "</div>"
      ],
      "text/plain": [
       "    newspaper                                      query                 date  \\\n",
       "0  financiero          AMLO, Andrés Manuel López Obrador  2019-01-01 17:20:18   \n",
       "1  financiero                                     MORENA  2019-01-01 21:39:57   \n",
       "2  financiero          AMLO, Andrés Manuel López Obrador  2019-01-01 21:47:56   \n",
       "3  financiero  MORENA, AMLO, Andrés Manuel López Obrador  2019-01-01 23:48:56   \n",
       "4  financiero                                     MORENA  2019-01-01 20:34:20   \n",
       "\n",
       "                                                 url  \\\n",
       "0  https://www.elfinanciero.com.mx/nacional/en-20...   \n",
       "1  https://www.elfinanciero.com.mx/nacional/educa...   \n",
       "2  https://www.elfinanciero.com.mx/economia/amlo-...   \n",
       "3  https://www.elfinanciero.com.mx/nacional/herma...   \n",
       "4  https://www.elfinanciero.com.mx/nacional/congr...   \n",
       "\n",
       "                                               title  \\\n",
       "0  En 2019 nos irá muy bien a todos los mexicanos...   \n",
       "1  Educación y seguridad, los más afectados en Pr...   \n",
       "2  AMLO destinará 1,600 mdp para el 'rescate' fin...   \n",
       "3  Hermano de AMLO niega nepotismo en su designación   \n",
       "4  Congreso de Sinaloa aprueba presupuesto 2019 d...   \n",
       "\n",
       "                                             summary  \\\n",
       "0  En su primer mensaje del año a través de redes...   \n",
       "1  El Presupuesto de Egresos del 2019 de Tlaxcala...   \n",
       "2  El secretario de Finanzas de Tabasco, Said Men...   \n",
       "3  José Ramiro López Obrador, que ocupará un carg...   \n",
       "4  El presupuesto representa un incremento de ape...   \n",
       "\n",
       "                                                text  label  \n",
       "0  El presidente Andrés Manuel López Obrador asev...      0  \n",
       "1  Con el voto a favor de la mayoría de los integ...      0  \n",
       "2  VILLAHERMOSA, Tabasco.- El secretario de Finan...      0  \n",
       "3  VILLAHERMOSA.- José Ramiro López Obrador, herm...      0  \n",
       "4  La madrugada de este martes 1 de enero el Cong...      0  "
      ]
     },
     "execution_count": 40,
     "metadata": {},
     "output_type": "execute_result"
    }
   ],
   "source": [
    "financiero.head()"
   ]
  },
  {
   "cell_type": "code",
   "execution_count": 41,
   "id": "8c175705-b148-4793-a780-0bebf1cfd6a7",
   "metadata": {},
   "outputs": [
    {
     "data": {
      "text/plain": [
       "(38131, 8)"
      ]
     },
     "execution_count": 41,
     "metadata": {},
     "output_type": "execute_result"
    }
   ],
   "source": [
    "financiero.shape"
   ]
  },
  {
   "cell_type": "code",
   "execution_count": 42,
   "id": "d74c40c1-1d01-4c0d-adc7-c87c07f0f068",
   "metadata": {},
   "outputs": [
    {
     "data": {
      "text/html": [
       "<div>\n",
       "<style scoped>\n",
       "    .dataframe tbody tr th:only-of-type {\n",
       "        vertical-align: middle;\n",
       "    }\n",
       "\n",
       "    .dataframe tbody tr th {\n",
       "        vertical-align: top;\n",
       "    }\n",
       "\n",
       "    .dataframe thead th {\n",
       "        text-align: right;\n",
       "    }\n",
       "</style>\n",
       "<table border=\"1\" class=\"dataframe\">\n",
       "  <thead>\n",
       "    <tr style=\"text-align: right;\">\n",
       "      <th></th>\n",
       "      <th>newspaper</th>\n",
       "      <th>query</th>\n",
       "      <th>date</th>\n",
       "      <th>url</th>\n",
       "      <th>title</th>\n",
       "      <th>summary</th>\n",
       "      <th>text</th>\n",
       "      <th>label</th>\n",
       "    </tr>\n",
       "  </thead>\n",
       "  <tbody>\n",
       "    <tr>\n",
       "      <th>0</th>\n",
       "      <td>universal</td>\n",
       "      <td>MORENA</td>\n",
       "      <td>2022-06-14 10:55:24</td>\n",
       "      <td>https://www.eluniversal.com.mx/nacion/acusacio...</td>\n",
       "      <td>Acusaciones del extranjero sobre asesinatos de...</td>\n",
       "      <td>El presidente López Obrador afirmó que en su g...</td>\n",
       "      <td>Al afirmar que en México no hay impunidad en l...</td>\n",
       "      <td>1</td>\n",
       "    </tr>\n",
       "    <tr>\n",
       "      <th>1</th>\n",
       "      <td>universal</td>\n",
       "      <td>AMLO</td>\n",
       "      <td>2019-05-14 03:12:20</td>\n",
       "      <td>https://www.eluniversal.com.mx/articulo/albert...</td>\n",
       "      <td>¿Se democratiza el mundo del trabajo?</td>\n",
       "      <td>Después de una larga y muy complicada lucha de...</td>\n",
       "      <td>Después de una larga y muy complicada lucha de...</td>\n",
       "      <td>1</td>\n",
       "    </tr>\n",
       "    <tr>\n",
       "      <th>2</th>\n",
       "      <td>universal</td>\n",
       "      <td>MORENA</td>\n",
       "      <td>2024-01-18 04:48:20</td>\n",
       "      <td>https://www.eluniversal.com.mx/opinion/el-caba...</td>\n",
       "      <td>Los críticos 3 km del tren México-Toluca en la...</td>\n",
       "      <td>El Caballito</td>\n",
       "      <td>Nos cuentan que tras la caída de una dovela qu...</td>\n",
       "      <td>1</td>\n",
       "    </tr>\n",
       "    <tr>\n",
       "      <th>3</th>\n",
       "      <td>universal</td>\n",
       "      <td>AMLO, Andrés Manuel López Obrador</td>\n",
       "      <td>2024-01-18 06:24:25</td>\n",
       "      <td>https://www.eluniversal.com.mx/nacion/la-manan...</td>\n",
       "      <td>La Mañanera de AMLO, 18 de enero, minuto a minuto</td>\n",
       "      <td>Sigue lo más relevante de la conferencia del p...</td>\n",
       "      <td>10:08- López Obrador habla del derecho de vía ...</td>\n",
       "      <td>1</td>\n",
       "    </tr>\n",
       "    <tr>\n",
       "      <th>4</th>\n",
       "      <td>universal</td>\n",
       "      <td>Andrés Manuel López Obrador</td>\n",
       "      <td>2024-03-06 12:31:22</td>\n",
       "      <td>https://www.eluniversal.com.mx/nacion/que-pide...</td>\n",
       "      <td>¿Qué piden los normalistas de Ayotzinapa, ante...</td>\n",
       "      <td>Desde la semana pasada han llevado a cabo mani...</td>\n",
       "      <td>Tras la irrupción violenta de esta mañana a Pa...</td>\n",
       "      <td>1</td>\n",
       "    </tr>\n",
       "  </tbody>\n",
       "</table>\n",
       "</div>"
      ],
      "text/plain": [
       "   newspaper                              query                 date  \\\n",
       "0  universal                             MORENA  2022-06-14 10:55:24   \n",
       "1  universal                               AMLO  2019-05-14 03:12:20   \n",
       "2  universal                             MORENA  2024-01-18 04:48:20   \n",
       "3  universal  AMLO, Andrés Manuel López Obrador  2024-01-18 06:24:25   \n",
       "4  universal        Andrés Manuel López Obrador  2024-03-06 12:31:22   \n",
       "\n",
       "                                                 url  \\\n",
       "0  https://www.eluniversal.com.mx/nacion/acusacio...   \n",
       "1  https://www.eluniversal.com.mx/articulo/albert...   \n",
       "2  https://www.eluniversal.com.mx/opinion/el-caba...   \n",
       "3  https://www.eluniversal.com.mx/nacion/la-manan...   \n",
       "4  https://www.eluniversal.com.mx/nacion/que-pide...   \n",
       "\n",
       "                                               title  \\\n",
       "0  Acusaciones del extranjero sobre asesinatos de...   \n",
       "1              ¿Se democratiza el mundo del trabajo?   \n",
       "2  Los críticos 3 km del tren México-Toluca en la...   \n",
       "3  La Mañanera de AMLO, 18 de enero, minuto a minuto   \n",
       "4  ¿Qué piden los normalistas de Ayotzinapa, ante...   \n",
       "\n",
       "                                             summary  \\\n",
       "0  El presidente López Obrador afirmó que en su g...   \n",
       "1  Después de una larga y muy complicada lucha de...   \n",
       "2                                       El Caballito   \n",
       "3  Sigue lo más relevante de la conferencia del p...   \n",
       "4  Desde la semana pasada han llevado a cabo mani...   \n",
       "\n",
       "                                                text  label  \n",
       "0  Al afirmar que en México no hay impunidad en l...      1  \n",
       "1  Después de una larga y muy complicada lucha de...      1  \n",
       "2  Nos cuentan que tras la caída de una dovela qu...      1  \n",
       "3  10:08- López Obrador habla del derecho de vía ...      1  \n",
       "4  Tras la irrupción violenta de esta mañana a Pa...      1  "
      ]
     },
     "execution_count": 42,
     "metadata": {},
     "output_type": "execute_result"
    }
   ],
   "source": [
    "universal.head()"
   ]
  },
  {
   "cell_type": "code",
   "execution_count": 44,
   "id": "70379b1d-37eb-4ee2-a0ca-9f92ca5fa51c",
   "metadata": {},
   "outputs": [
    {
     "data": {
      "text/plain": [
       "(98658, 8)"
      ]
     },
     "execution_count": 44,
     "metadata": {},
     "output_type": "execute_result"
    }
   ],
   "source": [
    "universal.shape"
   ]
  },
  {
   "cell_type": "code",
   "execution_count": 46,
   "id": "2f646e2b-b2ed-47d7-bb88-01d3c12731e2",
   "metadata": {},
   "outputs": [],
   "source": [
    "train_data = pd.concat([jornada, financiero, universal], axis=0)"
   ]
  },
  {
   "cell_type": "code",
   "execution_count": 47,
   "id": "303ea2a4-ee12-42e4-800a-e52c58c7795d",
   "metadata": {},
   "outputs": [],
   "source": [
    "train_data.reset_index(drop=True, inplace=True)"
   ]
  },
  {
   "cell_type": "code",
   "execution_count": 49,
   "id": "7828d57e-d787-4ef4-ae66-29459547a57c",
   "metadata": {},
   "outputs": [],
   "source": [
    "train_data_text = train_data[['text','label']]"
   ]
  },
  {
   "cell_type": "code",
   "execution_count": 50,
   "id": "f764d9e2-7189-42b7-87f3-8f2429787d55",
   "metadata": {},
   "outputs": [
    {
     "data": {
      "text/html": [
       "<div>\n",
       "<style scoped>\n",
       "    .dataframe tbody tr th:only-of-type {\n",
       "        vertical-align: middle;\n",
       "    }\n",
       "\n",
       "    .dataframe tbody tr th {\n",
       "        vertical-align: top;\n",
       "    }\n",
       "\n",
       "    .dataframe thead th {\n",
       "        text-align: right;\n",
       "    }\n",
       "</style>\n",
       "<table border=\"1\" class=\"dataframe\">\n",
       "  <thead>\n",
       "    <tr style=\"text-align: right;\">\n",
       "      <th></th>\n",
       "      <th>text</th>\n",
       "      <th>label</th>\n",
       "    </tr>\n",
       "  </thead>\n",
       "  <tbody>\n",
       "    <tr>\n",
       "      <th>0</th>\n",
       "      <td>Periódico La JornadaMiércoles 2 de enero de 20...</td>\n",
       "      <td>1</td>\n",
       "    </tr>\n",
       "    <tr>\n",
       "      <th>1</th>\n",
       "      <td>Periódico La JornadaMiércoles 2 de enero de 20...</td>\n",
       "      <td>1</td>\n",
       "    </tr>\n",
       "    <tr>\n",
       "      <th>2</th>\n",
       "      <td>Reportero y corresponsal Periódico La JornadaM...</td>\n",
       "      <td>1</td>\n",
       "    </tr>\n",
       "    <tr>\n",
       "      <th>3</th>\n",
       "      <td>Periódico La JornadaMiércoles 2 de enero de 20...</td>\n",
       "      <td>1</td>\n",
       "    </tr>\n",
       "    <tr>\n",
       "      <th>4</th>\n",
       "      <td>Corresponsales Periódico La JornadaMiércoles 2...</td>\n",
       "      <td>1</td>\n",
       "    </tr>\n",
       "  </tbody>\n",
       "</table>\n",
       "</div>"
      ],
      "text/plain": [
       "                                                text  label\n",
       "0  Periódico La JornadaMiércoles 2 de enero de 20...      1\n",
       "1  Periódico La JornadaMiércoles 2 de enero de 20...      1\n",
       "2  Reportero y corresponsal Periódico La JornadaM...      1\n",
       "3  Periódico La JornadaMiércoles 2 de enero de 20...      1\n",
       "4  Corresponsales Periódico La JornadaMiércoles 2...      1"
      ]
     },
     "execution_count": 50,
     "metadata": {},
     "output_type": "execute_result"
    }
   ],
   "source": [
    "train_data_text.head()"
   ]
  },
  {
   "cell_type": "code",
   "execution_count": 51,
   "id": "75c1a16e-a0d2-42d8-90f7-00dc402a777c",
   "metadata": {},
   "outputs": [],
   "source": [
    "train_data_text.to_csv('/Users/mario/OneDrive/ITAM/4to semestre/Inv Aplicada II/Mario - Tesis/code/BETO/data/final_results_la_jornada.csv', index=False)"
   ]
  },
  {
   "cell_type": "code",
   "execution_count": 52,
   "id": "1a0853bc-b81b-4626-b299-ee3dcd42758b",
   "metadata": {},
   "outputs": [
    {
     "data": {
      "text/plain": [
       "(177063, 2)"
      ]
     },
     "execution_count": 52,
     "metadata": {},
     "output_type": "execute_result"
    }
   ],
   "source": [
    "train_data_text.shape"
   ]
  },
  {
   "cell_type": "code",
   "execution_count": 53,
   "id": "817492b2-58a6-4e91-9294-25c3092746bf",
   "metadata": {},
   "outputs": [],
   "source": [
    "train_data_text_filter = train_data_text[train_data_text['text'] != \"\"]"
   ]
  },
  {
   "cell_type": "code",
   "execution_count": 54,
   "id": "af120f10-e1a4-4b73-b026-4935a0305bb6",
   "metadata": {},
   "outputs": [
    {
     "data": {
      "text/plain": [
       "(176960, 2)"
      ]
     },
     "execution_count": 54,
     "metadata": {},
     "output_type": "execute_result"
    }
   ],
   "source": [
    "train_data_text_filter.shape"
   ]
  },
  {
   "cell_type": "code",
   "execution_count": 55,
   "id": "bb2c81c3-2b9b-45a8-b333-73764c185ad0",
   "metadata": {},
   "outputs": [],
   "source": [
    "train_data_text_filter.to_csv('/Users/mario/OneDrive/ITAM/4to semestre/Inv Aplicada II/Mario - Tesis/code/BETO/data/final_results_text.csv', index=False)"
   ]
  },
  {
   "cell_type": "code",
   "execution_count": null,
   "id": "b1c2ec22-9086-476b-9c76-26518ffa7dd2",
   "metadata": {},
   "outputs": [],
   "source": []
  }
 ],
 "metadata": {
  "kernelspec": {
   "display_name": "Python 3 (ipykernel)",
   "language": "python",
   "name": "python3"
  },
  "language_info": {
   "codemirror_mode": {
    "name": "ipython",
    "version": 3
   },
   "file_extension": ".py",
   "mimetype": "text/x-python",
   "name": "python",
   "nbconvert_exporter": "python",
   "pygments_lexer": "ipython3",
   "version": "3.10.13"
  }
 },
 "nbformat": 4,
 "nbformat_minor": 5
}
